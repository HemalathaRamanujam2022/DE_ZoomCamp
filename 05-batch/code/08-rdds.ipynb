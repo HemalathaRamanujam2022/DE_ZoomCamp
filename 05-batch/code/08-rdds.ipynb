{
 "cells": [
  {
   "cell_type": "code",
   "execution_count": 3,
   "id": "25f0303e-7d2c-416e-b12c-03c6bf3d22bb",
   "metadata": {},
   "outputs": [
    {
     "name": "stdout",
     "output_type": "stream",
     "text": [
      "24/03/03 15:22:50 WARN Utils: Your hostname, Hema resolves to a loopback address: 127.0.1.1; using 172.30.190.161 instead (on interface eth0)\n",
      "24/03/03 15:22:50 WARN Utils: Set SPARK_LOCAL_IP if you need to bind to another address\n"
     ]
    },
    {
     "name": "stderr",
     "output_type": "stream",
     "text": [
      "Setting default log level to \"WARN\".\n",
      "To adjust logging level use sc.setLogLevel(newLevel). For SparkR, use setLogLevel(newLevel).\n"
     ]
    },
    {
     "name": "stdout",
     "output_type": "stream",
     "text": [
      "24/03/03 15:22:51 WARN NativeCodeLoader: Unable to load native-hadoop library for your platform... using builtin-java classes where applicable\n"
     ]
    }
   ],
   "source": [
    "import pyspark\n",
    "from pyspark.sql import SparkSession\n",
    "\n",
    "spark = SparkSession.builder \\\n",
    "    .master(\"local[*]\") \\\n",
    "    .appName('test') \\\n",
    "    .getOrCreate()"
   ]
  },
  {
   "cell_type": "code",
   "execution_count": 4,
   "id": "49fd2a5a-c75e-45d6-9c56-128d7978ed99",
   "metadata": {},
   "outputs": [
    {
     "name": "stderr",
     "output_type": "stream",
     "text": [
      "                                                                                \r"
     ]
    }
   ],
   "source": [
    "df_green = spark.read.parquet('data/pq/green/*/*')"
   ]
  },
  {
   "cell_type": "code",
   "execution_count": null,
   "id": "f5973c00-a354-4a09-90b0-d9568473b639",
   "metadata": {},
   "outputs": [],
   "source": [
    "'''\n",
    "# Try to create the following SQL using RDD\n",
    "SELECT \n",
    "    date_trunc('hour', lpep_pickup_datetime) AS hour, \n",
    "    PULocationID AS zone,\n",
    "\n",
    "    SUM(total_amount) AS amount,\n",
    "    COUNT(1) AS number_records\n",
    "FROM\n",
    "    green\n",
    "WHERE\n",
    "    lpep_pickup_datetime >= '2020-01-01 00:00:00'\n",
    "GROUP BY\n",
    "    1, 2\n",
    "\n",
    "'''"
   ]
  },
  {
   "cell_type": "code",
   "execution_count": 5,
   "id": "448d9c53-d9ff-4b11-a487-6ee98d038c87",
   "metadata": {},
   "outputs": [],
   "source": [
    "rdd = df_green \\\n",
    "    .select('lpep_pickup_datetime', 'PULocationID', 'total_amount') \\\n",
    "    .rdd"
   ]
  },
  {
   "cell_type": "code",
   "execution_count": 6,
   "id": "1bbcfbc9-ba71-458e-8910-b9b2eab48ed8",
   "metadata": {},
   "outputs": [],
   "source": [
    "from datetime import datetime"
   ]
  },
  {
   "cell_type": "code",
   "execution_count": 7,
   "id": "354cd817-79d2-42d2-96b2-4e32a11a42f9",
   "metadata": {},
   "outputs": [
    {
     "name": "stderr",
     "output_type": "stream",
     "text": [
      "                                                                                \r"
     ]
    }
   ],
   "source": [
    "# Will return all 10 records\n",
    "rows = rdd.filter(lambda row: True).take(10)\n",
    "row = rows[0]"
   ]
  },
  {
   "cell_type": "code",
   "execution_count": 9,
   "id": "6eb26c46-2450-4843-a298-0fe924ed4528",
   "metadata": {},
   "outputs": [
    {
     "data": {
      "text/plain": [
       "[Row(lpep_pickup_datetime=datetime.datetime(2020, 1, 27, 23, 23, 13), PULocationID=260, total_amount=16.0),\n",
       " Row(lpep_pickup_datetime=datetime.datetime(2020, 1, 30, 20, 30), PULocationID=238, total_amount=28.51),\n",
       " Row(lpep_pickup_datetime=datetime.datetime(2020, 1, 22, 18, 13), PULocationID=82, total_amount=22.11),\n",
       " Row(lpep_pickup_datetime=datetime.datetime(2020, 1, 4, 18, 12, 24), PULocationID=42, total_amount=8.8),\n",
       " Row(lpep_pickup_datetime=datetime.datetime(2020, 1, 27, 11, 53), PULocationID=82, total_amount=19.02),\n",
       " Row(lpep_pickup_datetime=datetime.datetime(2020, 1, 29, 15, 35), PULocationID=7, total_amount=47.42),\n",
       " Row(lpep_pickup_datetime=datetime.datetime(2020, 1, 2, 11, 32), PULocationID=66, total_amount=12.3),\n",
       " Row(lpep_pickup_datetime=datetime.datetime(2020, 1, 4, 9, 40, 17), PULocationID=42, total_amount=7.3),\n",
       " Row(lpep_pickup_datetime=datetime.datetime(2020, 1, 18, 21, 41, 43), PULocationID=129, total_amount=5.3),\n",
       " Row(lpep_pickup_datetime=datetime.datetime(2020, 1, 11, 18, 43, 11), PULocationID=41, total_amount=8.3)]"
      ]
     },
     "execution_count": 9,
     "metadata": {},
     "output_type": "execute_result"
    }
   ],
   "source": [
    "rows"
   ]
  },
  {
   "cell_type": "code",
   "execution_count": 11,
   "id": "4a1024dc-1908-407b-9a2b-057a664cc0a4",
   "metadata": {},
   "outputs": [
    {
     "name": "stderr",
     "output_type": "stream",
     "text": [
      "                                                                                \r"
     ]
    },
    {
     "data": {
      "text/plain": [
       "[]"
      ]
     },
     "execution_count": 11,
     "metadata": {},
     "output_type": "execute_result"
    }
   ],
   "source": [
    "# Will return 0 records\n",
    "rows = rdd.filter(lambda row: False).take(10)\n",
    "rows"
   ]
  },
  {
   "cell_type": "code",
   "execution_count": 12,
   "id": "f3e95412-09bb-4ac4-b904-b446ddc09577",
   "metadata": {},
   "outputs": [],
   "source": [
    "# Apply a function to a row to filter based on date\n",
    "start = datetime(year=2020, month=1, day=1)\n",
    "\n",
    "def filter_outliers(row):\n",
    "    return row.lpep_pickup_datetime >= start"
   ]
  },
  {
   "cell_type": "code",
   "execution_count": 13,
   "id": "21e4434f-d8b4-43fa-9b6e-83707e64e6ac",
   "metadata": {},
   "outputs": [],
   "source": [
    "rows = rdd.filter(filter_outliers).take(10)\n",
    "row = rows[0]"
   ]
  },
  {
   "cell_type": "code",
   "execution_count": 14,
   "id": "fbc1d62b-dcd9-4e4b-9531-1ca9c5f9ab2a",
   "metadata": {},
   "outputs": [
    {
     "data": {
      "text/plain": [
       "Row(lpep_pickup_datetime=datetime.datetime(2020, 1, 27, 23, 23, 13), PULocationID=260, total_amount=16.0)"
      ]
     },
     "execution_count": 14,
     "metadata": {},
     "output_type": "execute_result"
    }
   ],
   "source": [
    "row"
   ]
  },
  {
   "cell_type": "code",
   "execution_count": 15,
   "id": "0f48d737-80e2-4d13-8fd2-b4b4e068dacd",
   "metadata": {},
   "outputs": [],
   "source": [
    "# Create a group by function based on hour, LocationID as the key and amount and count as the value. The key and value are returned as tuples.\n",
    "def prepare_for_grouping(row): \n",
    "    hour = row.lpep_pickup_datetime.replace(minute=0, second=0, microsecond=0)\n",
    "    zone = row.PULocationID\n",
    "    key = (hour, zone)\n",
    "    \n",
    "    amount = row.total_amount\n",
    "    count = 1\n",
    "    value = (amount, count)\n",
    "\n",
    "    return (key, value)"
   ]
  },
  {
   "cell_type": "code",
   "execution_count": 17,
   "id": "bb617e34-7584-4bce-a4d9-2f8cca3049b2",
   "metadata": {},
   "outputs": [],
   "source": [
    "# The values are added using this logic\n",
    "# v1 + v2 = v1* , v1* + v3 = v2*, v2* + v4 - v3* and so on so that the values are aggregated \n",
    "def calculate_revenue(left_value, right_value):\n",
    "    left_amount, left_count = left_value\n",
    "    right_amount, right_count = right_value\n",
    "    \n",
    "    output_amount = left_amount + right_amount\n",
    "    output_count = left_count + right_count\n",
    "    \n",
    "    return (output_amount, output_count)"
   ]
  },
  {
   "cell_type": "code",
   "execution_count": 18,
   "id": "bd25381f-1158-4eb0-85af-5c9f03591cdb",
   "metadata": {},
   "outputs": [],
   "source": [
    "\n",
    "from collections import namedtuple"
   ]
  },
  {
   "cell_type": "code",
   "execution_count": 20,
   "id": "d22a2098-ad1d-4fab-b44f-fd129eba749c",
   "metadata": {},
   "outputs": [],
   "source": [
    "def unwrap(row):\n",
    "    return (row[0][0], \n",
    "           row[0][1],\n",
    "           row[1][0],\n",
    "           row[1][1]\n",
    "    )"
   ]
  },
  {
   "cell_type": "code",
   "execution_count": 22,
   "id": "8c44dfdb-a64b-4054-9492-0ad0b10deb0b",
   "metadata": {},
   "outputs": [
    {
     "name": "stderr",
     "output_type": "stream",
     "text": [
      "                                                                                \r"
     ]
    }
   ],
   "source": [
    "df_result = rdd \\\n",
    "    .filter(filter_outliers) \\\n",
    "    .map(prepare_for_grouping) \\\n",
    "    .reduceByKey(calculate_revenue) \\\n",
    "    .map(unwrap) \\\n",
    "    .take(10)"
   ]
  },
  {
   "cell_type": "code",
   "execution_count": 24,
   "id": "31c217ea-d859-4201-8537-bb151ecf51f6",
   "metadata": {},
   "outputs": [
    {
     "data": {
      "text/plain": [
       "[(datetime.datetime(2020, 1, 27, 23, 0), 260, 154.26, 15),\n",
       " (datetime.datetime(2020, 1, 2, 11, 0), 66, 204.01999999999998, 10),\n",
       " (datetime.datetime(2020, 1, 4, 9, 0), 42, 426.55000000000024, 36),\n",
       " (datetime.datetime(2020, 1, 11, 18, 0), 41, 476.0100000000002, 45),\n",
       " (datetime.datetime(2020, 1, 22, 12, 0), 244, 352.26000000000016, 21),\n",
       " (datetime.datetime(2020, 1, 22, 15, 0), 177, 56.28, 3),\n",
       " (datetime.datetime(2020, 1, 17, 14, 0), 7, 350.2100000000001, 34),\n",
       " (datetime.datetime(2020, 1, 12, 12, 0), 200, 83.63, 2),\n",
       " (datetime.datetime(2020, 1, 17, 17, 0), 7, 597.0100000000001, 49),\n",
       " (datetime.datetime(2020, 1, 29, 13, 0), 74, 686.4699999999997, 61)]"
      ]
     },
     "execution_count": 24,
     "metadata": {},
     "output_type": "execute_result"
    }
   ],
   "source": [
    "df_result"
   ]
  },
  {
   "cell_type": "code",
   "execution_count": 26,
   "id": "caf43386-d004-4b5c-a6ab-a948d7f4d38b",
   "metadata": {},
   "outputs": [
    {
     "name": "stderr",
     "output_type": "stream",
     "text": [
      "                                                                                \r"
     ]
    }
   ],
   "source": [
    "df_result = rdd \\\n",
    "    .filter(filter_outliers) \\\n",
    "    .map(prepare_for_grouping) \\\n",
    "    .reduceByKey(calculate_revenue) \\\n",
    "    .map(unwrap) \\\n",
    "    .toDF() "
   ]
  },
  {
   "cell_type": "code",
   "execution_count": 27,
   "id": "7970e9c1-8dd6-4ebc-9964-28d6c07a8a8d",
   "metadata": {},
   "outputs": [
    {
     "data": {
      "text/plain": [
       "DataFrame[_1: timestamp, _2: bigint, _3: double, _4: bigint]"
      ]
     },
     "execution_count": 27,
     "metadata": {},
     "output_type": "execute_result"
    }
   ],
   "source": [
    "df_result"
   ]
  },
  {
   "cell_type": "code",
   "execution_count": 36,
   "id": "93527646-9568-42cc-8e5d-7f14272186b8",
   "metadata": {},
   "outputs": [],
   "source": [
    "# This time we will give names to columns\n",
    "RevenueRow = namedtuple('RevenueRow', ['hour', 'zone', 'revenue', 'count'])"
   ]
  },
  {
   "cell_type": "code",
   "execution_count": 37,
   "id": "fb235b83-59eb-448c-a9ad-9d3966e3f70a",
   "metadata": {},
   "outputs": [],
   "source": [
    "def unwrap(row):\n",
    "    return RevenueRow(\n",
    "        hour=row[0][0], \n",
    "        zone=row[0][1],\n",
    "        revenue=row[1][0],\n",
    "        count=row[1][1]\n",
    "    )"
   ]
  },
  {
   "cell_type": "code",
   "execution_count": 38,
   "id": "66b997ac-e35e-4a06-9cc1-8392ecbe0c41",
   "metadata": {},
   "outputs": [
    {
     "name": "stderr",
     "output_type": "stream",
     "text": [
      "                                                                                \r"
     ]
    }
   ],
   "source": [
    "df_result = rdd \\\n",
    "    .filter(filter_outliers) \\\n",
    "    .map(prepare_for_grouping) \\\n",
    "    .reduceByKey(calculate_revenue) \\\n",
    "    .map(unwrap) \\\n",
    "    .toDF() "
   ]
  },
  {
   "cell_type": "code",
   "execution_count": 39,
   "id": "39d92a48-2ebb-485a-bd5a-6e648ef0875a",
   "metadata": {},
   "outputs": [
    {
     "data": {
      "text/plain": [
       "DataFrame[hour: timestamp, zone: bigint, revenue: double, count: bigint]"
      ]
     },
     "execution_count": 39,
     "metadata": {},
     "output_type": "execute_result"
    }
   ],
   "source": [
    "df_result"
   ]
  },
  {
   "cell_type": "code",
   "execution_count": 40,
   "id": "807a069a-d35e-4e70-864f-19c6f59a4729",
   "metadata": {},
   "outputs": [
    {
     "data": {
      "text/plain": [
       "['hour', 'zone', 'revenue', 'count']"
      ]
     },
     "execution_count": 40,
     "metadata": {},
     "output_type": "execute_result"
    }
   ],
   "source": [
    "df_result.columns"
   ]
  },
  {
   "cell_type": "code",
   "execution_count": 41,
   "id": "ef6d3b1a-c815-4443-a37f-de0b05fe9731",
   "metadata": {},
   "outputs": [
    {
     "data": {
      "text/plain": [
       "StructType([StructField('hour', TimestampType(), True), StructField('zone', LongType(), True), StructField('revenue', DoubleType(), True), StructField('count', LongType(), True)])"
      ]
     },
     "execution_count": 41,
     "metadata": {},
     "output_type": "execute_result"
    }
   ],
   "source": [
    "df_result.schema"
   ]
  },
  {
   "cell_type": "code",
   "execution_count": 32,
   "id": "eca4f184-8fe7-4756-be28-3c8d42b54077",
   "metadata": {},
   "outputs": [],
   "source": [
    "from pyspark.sql import types"
   ]
  },
  {
   "cell_type": "code",
   "execution_count": 42,
   "id": "ea27465b-d6a2-4da6-959f-bbef33cb6d4f",
   "metadata": {},
   "outputs": [],
   "source": [
    "# After adjusting the schema based on data\n",
    "result_schema = types.StructType([\n",
    "    types.StructField('hour', types.TimestampType(), True),\n",
    "    types.StructField('zone', types.IntegerType(), True),\n",
    "    types.StructField('revenue', types.DoubleType(), True),\n",
    "    types.StructField('count', types.IntegerType(), True)\n",
    "])"
   ]
  },
  {
   "cell_type": "code",
   "execution_count": 43,
   "id": "d472077f-2fa9-4d68-b249-358eeecd8cc3",
   "metadata": {},
   "outputs": [],
   "source": [
    "df_result = rdd \\\n",
    "    .filter(filter_outliers) \\\n",
    "    .map(prepare_for_grouping) \\\n",
    "    .reduceByKey(calculate_revenue) \\\n",
    "    .map(unwrap) \\\n",
    "    .toDF(result_schema) "
   ]
  },
  {
   "cell_type": "code",
   "execution_count": 44,
   "id": "2281b67c-74fb-48b9-81a0-f6b7fb2bfbd0",
   "metadata": {},
   "outputs": [
    {
     "data": {
      "text/plain": [
       "StructType([StructField('hour', TimestampType(), True), StructField('zone', IntegerType(), True), StructField('revenue', DoubleType(), True), StructField('count', IntegerType(), True)])"
      ]
     },
     "execution_count": 44,
     "metadata": {},
     "output_type": "execute_result"
    }
   ],
   "source": [
    "df_result.schema"
   ]
  },
  {
   "cell_type": "code",
   "execution_count": 45,
   "id": "8563d12f-f8dd-420f-9d88-31cee3921399",
   "metadata": {},
   "outputs": [
    {
     "name": "stderr",
     "output_type": "stream",
     "text": [
      "                                                                                \r"
     ]
    }
   ],
   "source": [
    "df_result.write.parquet('tmp/green-revenue')"
   ]
  },
  {
   "cell_type": "code",
   "execution_count": 47,
   "id": "f2fb27dc-d57c-4f0c-aa6e-1d2f8cfa5f4f",
   "metadata": {},
   "outputs": [],
   "source": [
    "columns = ['VendorID', 'lpep_pickup_datetime', 'PULocationID', 'DOLocationID', 'trip_distance']\n",
    "\n",
    "duration_rdd = df_green \\\n",
    "    .select(columns) \\\n",
    "    .rdd"
   ]
  },
  {
   "cell_type": "code",
   "execution_count": 48,
   "id": "28c13907-d31c-49af-aa82-29147d437ccd",
   "metadata": {},
   "outputs": [],
   "source": [
    "def apply_model_in_batch(partition):\n",
    "    cnt = 0\n",
    "    for row in partition:\n",
    "        cnt = cnt +1\n",
    "    return [cnt]"
   ]
  },
  {
   "cell_type": "code",
   "execution_count": 49,
   "id": "fe087037-244e-487f-b994-5c6471ea8138",
   "metadata": {},
   "outputs": [
    {
     "name": "stderr",
     "output_type": "stream",
     "text": [
      "                                                                                \r"
     ]
    },
    {
     "data": {
      "text/plain": [
       "[1164928, 456935, 425872, 256782]"
      ]
     },
     "execution_count": 49,
     "metadata": {},
     "output_type": "execute_result"
    }
   ],
   "source": [
    "rdd.mapPartitions(apply_model_in_batch).collect()"
   ]
  },
  {
   "cell_type": "code",
   "execution_count": 50,
   "id": "9320fc48-a7da-41b6-ade0-6cbbc9274dc3",
   "metadata": {},
   "outputs": [],
   "source": [
    "import pandas as pd"
   ]
  },
  {
   "cell_type": "code",
   "execution_count": 51,
   "id": "747aa3c4-ca11-4791-87a8-91c6b32d4789",
   "metadata": {},
   "outputs": [],
   "source": [
    "rows = duration_rdd.take(10)"
   ]
  },
  {
   "cell_type": "code",
   "execution_count": 52,
   "id": "39f04494-8f81-4a5b-ac8f-456649ddaa75",
   "metadata": {},
   "outputs": [
    {
     "data": {
      "text/plain": [
       "[Row(VendorID=2, lpep_pickup_datetime=datetime.datetime(2020, 1, 27, 23, 23, 13), PULocationID=260, DOLocationID=223, trip_distance=2.98),\n",
       " Row(VendorID=None, lpep_pickup_datetime=datetime.datetime(2020, 1, 30, 20, 30), PULocationID=238, DOLocationID=47, trip_distance=7.65),\n",
       " Row(VendorID=None, lpep_pickup_datetime=datetime.datetime(2020, 1, 22, 18, 13), PULocationID=82, DOLocationID=95, trip_distance=1.83),\n",
       " Row(VendorID=2, lpep_pickup_datetime=datetime.datetime(2020, 1, 4, 18, 12, 24), PULocationID=42, DOLocationID=244, trip_distance=1.65),\n",
       " Row(VendorID=2, lpep_pickup_datetime=datetime.datetime(2020, 1, 27, 11, 53), PULocationID=82, DOLocationID=197, trip_distance=6.38),\n",
       " Row(VendorID=2, lpep_pickup_datetime=datetime.datetime(2020, 1, 29, 15, 35), PULocationID=7, DOLocationID=174, trip_distance=10.4),\n",
       " Row(VendorID=None, lpep_pickup_datetime=datetime.datetime(2020, 1, 2, 11, 32), PULocationID=66, DOLocationID=217, trip_distance=2.95),\n",
       " Row(VendorID=1, lpep_pickup_datetime=datetime.datetime(2020, 1, 4, 9, 40, 17), PULocationID=42, DOLocationID=41, trip_distance=1.0),\n",
       " Row(VendorID=1, lpep_pickup_datetime=datetime.datetime(2020, 1, 18, 21, 41, 43), PULocationID=129, DOLocationID=129, trip_distance=0.4),\n",
       " Row(VendorID=2, lpep_pickup_datetime=datetime.datetime(2020, 1, 11, 18, 43, 11), PULocationID=41, DOLocationID=41, trip_distance=0.91)]"
      ]
     },
     "execution_count": 52,
     "metadata": {},
     "output_type": "execute_result"
    }
   ],
   "source": [
    "rows"
   ]
  },
  {
   "cell_type": "code",
   "execution_count": 53,
   "id": "877b6a2c-0ab6-4ebd-9884-9c18f2914314",
   "metadata": {},
   "outputs": [],
   "source": [
    "df = pd.DataFrame(rows, columns=columns) # if we don't assign columns names it will take it as 1,2,3,4 ..."
   ]
  },
  {
   "cell_type": "code",
   "execution_count": 54,
   "id": "6b683657-49bb-4795-9506-9ef0b8d36281",
   "metadata": {},
   "outputs": [
    {
     "data": {
      "text/plain": [
       "Index(['VendorID', 'lpep_pickup_datetime', 'PULocationID', 'DOLocationID',\n",
       "       'trip_distance'],\n",
       "      dtype='object')"
      ]
     },
     "execution_count": 54,
     "metadata": {},
     "output_type": "execute_result"
    }
   ],
   "source": [
    "df.columns"
   ]
  },
  {
   "cell_type": "code",
   "execution_count": 55,
   "id": "fdee0bf0-60d5-443c-b5b8-42e768bc4212",
   "metadata": {},
   "outputs": [],
   "source": [
    "def apply_model_in_batch(rows):\n",
    "    cnt = 0\n",
    "    df = pd.DataFrame(rows, columns=columns)\n",
    "    cnt = len(df)\n",
    "    return [cnt]"
   ]
  },
  {
   "cell_type": "code",
   "execution_count": 57,
   "id": "3f5e1a37-ba02-4f59-a39e-147177a11af0",
   "metadata": {},
   "outputs": [
    {
     "name": "stderr",
     "output_type": "stream",
     "text": [
      "                                                                                \r"
     ]
    },
    {
     "data": {
      "text/plain": [
       "[1164928, 456935, 425872, 256782]"
      ]
     },
     "execution_count": 57,
     "metadata": {},
     "output_type": "execute_result"
    }
   ],
   "source": [
    "duration_rdd.mapPartitions(apply_model_in_batch).collect()"
   ]
  },
  {
   "cell_type": "code",
   "execution_count": 59,
   "id": "da9b3072-18d8-4e2d-b565-3f6cd7e01329",
   "metadata": {},
   "outputs": [],
   "source": [
    "rows = duration_rdd.take(10)"
   ]
  },
  {
   "cell_type": "code",
   "execution_count": 60,
   "id": "b89165b3-ef75-4279-80cf-241ce9b62918",
   "metadata": {},
   "outputs": [],
   "source": [
    "df = pd.DataFrame(rows) # convert rdd to DF"
   ]
  },
  {
   "cell_type": "code",
   "execution_count": 61,
   "id": "efe81e42-8bfe-45a3-b139-50d8d2423bc1",
   "metadata": {},
   "outputs": [
    {
     "data": {
      "text/plain": [
       "<map at 0x7f7d7d85ffd0>"
      ]
     },
     "execution_count": 61,
     "metadata": {},
     "output_type": "execute_result"
    }
   ],
   "source": [
    "df.itertuples()"
   ]
  },
  {
   "cell_type": "code",
   "execution_count": 62,
   "id": "d4e92662-5113-47f0-9c79-4c73ddfafef5",
   "metadata": {},
   "outputs": [
    {
     "data": {
      "text/plain": [
       "[Pandas(Index=0, _1=2.0, _2=Timestamp('2020-01-27 23:23:13'), _3=260, _4=223, _5=2.98),\n",
       " Pandas(Index=1, _1=nan, _2=Timestamp('2020-01-30 20:30:00'), _3=238, _4=47, _5=7.65),\n",
       " Pandas(Index=2, _1=nan, _2=Timestamp('2020-01-22 18:13:00'), _3=82, _4=95, _5=1.83),\n",
       " Pandas(Index=3, _1=2.0, _2=Timestamp('2020-01-04 18:12:24'), _3=42, _4=244, _5=1.65),\n",
       " Pandas(Index=4, _1=2.0, _2=Timestamp('2020-01-27 11:53:00'), _3=82, _4=197, _5=6.38),\n",
       " Pandas(Index=5, _1=2.0, _2=Timestamp('2020-01-29 15:35:00'), _3=7, _4=174, _5=10.4),\n",
       " Pandas(Index=6, _1=nan, _2=Timestamp('2020-01-02 11:32:00'), _3=66, _4=217, _5=2.95),\n",
       " Pandas(Index=7, _1=1.0, _2=Timestamp('2020-01-04 09:40:17'), _3=42, _4=41, _5=1.0),\n",
       " Pandas(Index=8, _1=1.0, _2=Timestamp('2020-01-18 21:41:43'), _3=129, _4=129, _5=0.4),\n",
       " Pandas(Index=9, _1=2.0, _2=Timestamp('2020-01-11 18:43:11'), _3=41, _4=41, _5=0.91)]"
      ]
     },
     "execution_count": 62,
     "metadata": {},
     "output_type": "execute_result"
    }
   ],
   "source": [
    "list(df.itertuples())"
   ]
  },
  {
   "cell_type": "code",
   "execution_count": 70,
   "id": "b1c85310-c444-4996-a3ec-0a63bba0a7e3",
   "metadata": {},
   "outputs": [],
   "source": [
    "def infinite_seq():\n",
    "    seq = 0\n",
    "    while True:\n",
    "        yield seq\n",
    "        seq = seq + 1\n",
    "        if seq > 15:\n",
    "            break\n"
   ]
  },
  {
   "cell_type": "code",
   "execution_count": 71,
   "id": "e6fd03b9-8896-4750-9382-4a27552665fd",
   "metadata": {},
   "outputs": [],
   "source": [
    "seq = infinite_seq()"
   ]
  },
  {
   "cell_type": "code",
   "execution_count": 73,
   "id": "a6df7f70-ebe1-4c44-825e-40423c15baed",
   "metadata": {},
   "outputs": [
    {
     "data": {
      "text/plain": [
       "1"
      ]
     },
     "execution_count": 73,
     "metadata": {},
     "output_type": "execute_result"
    }
   ],
   "source": [
    "next(seq)"
   ]
  },
  {
   "cell_type": "code",
   "execution_count": 74,
   "id": "eb5b30be-d303-4a2e-9e54-ab38db6e3b47",
   "metadata": {},
   "outputs": [
    {
     "data": {
      "text/plain": [
       "[2, 3, 4, 5, 6, 7, 8, 9, 10, 11, 12, 13, 14, 15]"
      ]
     },
     "execution_count": 74,
     "metadata": {},
     "output_type": "execute_result"
    }
   ],
   "source": [
    "list(seq) "
   ]
  },
  {
   "cell_type": "code",
   "execution_count": 75,
   "id": "79ab6200-448a-49fe-a62b-32071c40d85e",
   "metadata": {},
   "outputs": [],
   "source": [
    "# In case if we have an ML model, we could use it to predict a dependent variable. But\n",
    "# since there is no model here, we will just hard code it to some value using dummy logic\n",
    "#model = ...\n",
    "\n",
    "def model_predict(df):\n",
    "#     y_pred = model.predict(df)\n",
    "    y_pred = df.trip_distance * 5\n",
    "    return y_pred"
   ]
  },
  {
   "cell_type": "code",
   "execution_count": 76,
   "id": "4e0a5fa6-c466-4e5c-bdac-44d076ff81a7",
   "metadata": {},
   "outputs": [],
   "source": [
    "def apply_model_in_batch(rows):\n",
    "    df = pd.DataFrame(rows, columns=columns)\n",
    "    predictions = model_predict(df)\n",
    "    df['predicted_duration'] = predictions\n",
    "\n",
    "    for row in df.itertuples():\n",
    "        yield row"
   ]
  },
  {
   "cell_type": "code",
   "execution_count": 77,
   "id": "0d8a6304-2b4e-4ae6-a0b3-1805eb7ca9b1",
   "metadata": {},
   "outputs": [
    {
     "name": "stderr",
     "output_type": "stream",
     "text": [
      "                                                                                \r"
     ]
    }
   ],
   "source": [
    "df_predicts = duration_rdd \\\n",
    "    .mapPartitions(apply_model_in_batch)\\\n",
    "    .toDF() \\\n",
    "    .drop('Index')"
   ]
  },
  {
   "cell_type": "code",
   "execution_count": 79,
   "id": "10f2c22b-4e06-4526-914f-db35c5c5e20e",
   "metadata": {},
   "outputs": [
    {
     "name": "stderr",
     "output_type": "stream",
     "text": [
      "[Stage 22:>                                                         (0 + 1) / 1]\r"
     ]
    },
    {
     "name": "stdout",
     "output_type": "stream",
     "text": [
      "+--------+--------------------+------------+------------+-------------+------------------+\n",
      "|VendorID|lpep_pickup_datetime|PULocationID|DOLocationID|trip_distance|predicted_duration|\n",
      "+--------+--------------------+------------+------------+-------------+------------------+\n",
      "|     2.0|                  {}|         260|         223|         2.98|              14.9|\n",
      "|     NaN|                  {}|         238|          47|         7.65|             38.25|\n",
      "|     NaN|                  {}|          82|          95|         1.83|              9.15|\n",
      "|     2.0|                  {}|          42|         244|         1.65|              8.25|\n",
      "|     2.0|                  {}|          82|         197|         6.38|              31.9|\n",
      "|     2.0|                  {}|           7|         174|         10.4|              52.0|\n",
      "|     NaN|                  {}|          66|         217|         2.95|             14.75|\n",
      "|     1.0|                  {}|          42|          41|          1.0|               5.0|\n",
      "|     1.0|                  {}|         129|         129|          0.4|               2.0|\n",
      "|     2.0|                  {}|          41|          41|         0.91|              4.55|\n",
      "|     NaN|                  {}|          35|          71|         2.02|              10.1|\n",
      "|     1.0|                  {}|          52|         148|          3.6|              18.0|\n",
      "|     2.0|                  {}|           7|           7|         0.66|3.3000000000000003|\n",
      "|     2.0|                  {}|         244|         119|          1.8|               9.0|\n",
      "|     2.0|                  {}|          75|         161|          2.7|              13.5|\n",
      "|     2.0|                  {}|         177|          37|         2.58|              12.9|\n",
      "|     2.0|                  {}|          55|          26|         4.99|24.950000000000003|\n",
      "|     2.0|                  {}|         134|         260|         4.49|22.450000000000003|\n",
      "|     2.0|                  {}|           7|         226|         2.03|10.149999999999999|\n",
      "|     NaN|                  {}|          75|         170|          3.7|              18.5|\n",
      "+--------+--------------------+------------+------------+-------------+------------------+\n",
      "only showing top 20 rows\n",
      "\n"
     ]
    },
    {
     "name": "stderr",
     "output_type": "stream",
     "text": [
      "                                                                                \r"
     ]
    }
   ],
   "source": [
    "df_predicts.show()"
   ]
  },
  {
   "cell_type": "code",
   "execution_count": 78,
   "id": "90622e77-7841-4867-8906-3a254eb4cd01",
   "metadata": {},
   "outputs": [
    {
     "name": "stderr",
     "output_type": "stream",
     "text": [
      "[Stage 21:>                                                         (0 + 1) / 1]\r"
     ]
    },
    {
     "name": "stdout",
     "output_type": "stream",
     "text": [
      "+------------------+\n",
      "|predicted_duration|\n",
      "+------------------+\n",
      "|              14.9|\n",
      "|             38.25|\n",
      "|              9.15|\n",
      "|              8.25|\n",
      "|              31.9|\n",
      "|              52.0|\n",
      "|             14.75|\n",
      "|               5.0|\n",
      "|               2.0|\n",
      "|              4.55|\n",
      "|              10.1|\n",
      "|              18.0|\n",
      "|3.3000000000000003|\n",
      "|               9.0|\n",
      "|              13.5|\n",
      "|              12.9|\n",
      "|24.950000000000003|\n",
      "|22.450000000000003|\n",
      "|10.149999999999999|\n",
      "|              18.5|\n",
      "+------------------+\n",
      "only showing top 20 rows\n",
      "\n"
     ]
    },
    {
     "name": "stderr",
     "output_type": "stream",
     "text": [
      "                                                                                \r"
     ]
    }
   ],
   "source": [
    "df_predicts.select('predicted_duration').show()"
   ]
  },
  {
   "cell_type": "code",
   "execution_count": null,
   "id": "bf2544b5-2f48-4ab7-b4d2-9ad0f34d7804",
   "metadata": {},
   "outputs": [],
   "source": []
  }
 ],
 "metadata": {
  "kernelspec": {
   "display_name": "Python 3 (ipykernel)",
   "language": "python",
   "name": "python3"
  },
  "language_info": {
   "codemirror_mode": {
    "name": "ipython",
    "version": 3
   },
   "file_extension": ".py",
   "mimetype": "text/x-python",
   "name": "python",
   "nbconvert_exporter": "python",
   "pygments_lexer": "ipython3",
   "version": "3.10.12"
  }
 },
 "nbformat": 4,
 "nbformat_minor": 5
}
