{
 "cells": [
  {
   "cell_type": "code",
   "execution_count": null,
   "id": "a87a9843-b0cd-40d2-b4a0-009fdd7dd75a",
   "metadata": {},
   "outputs": [],
   "source": [
    "import pyspark\n",
    "from pyspark.sql import SparkSession\n",
    "\n",
    "spark = SparkSession.builder \\\n",
    "    .master(\"spark://Hema.:7077\") \\\n",
    "    .appName('test') \\\n",
    "    .getOrCreate()"
   ]
  },
  {
   "cell_type": "code",
   "execution_count": null,
   "id": "99827300-2b8e-4c7e-8f11-9973d07b3ef6",
   "metadata": {},
   "outputs": [],
   "source": [
    "spark"
   ]
  },
  {
   "cell_type": "code",
   "execution_count": null,
   "id": "2cfa0f67-f8ff-4d7f-ab21-a6a12eb57142",
   "metadata": {},
   "outputs": [],
   "source": [
    "\n",
    "df_green = spark.read.parquet('data/pq/green/*/*') # Read all the green taxi parquets"
   ]
  },
  {
   "cell_type": "code",
   "execution_count": null,
   "id": "08eb3426-7697-4576-bc6d-4350a0ee3550",
   "metadata": {},
   "outputs": [],
   "source": [
    "df_green.columns"
   ]
  },
  {
   "cell_type": "code",
   "execution_count": null,
   "id": "11d1acb2-299f-424a-8fa5-62784286042e",
   "metadata": {},
   "outputs": [],
   "source": [
    "# rename columns\n",
    "df_green = df_green \\\n",
    "    .withColumnRenamed('lpep_pickup_datetime', 'pickup_datetime') \\\n",
    "    .withColumnRenamed('lpep_dropoff_datetime', 'dropoff_datetime')"
   ]
  },
  {
   "cell_type": "code",
   "execution_count": null,
   "id": "bbc70d1b-7833-4a92-97a0-639d6512255d",
   "metadata": {},
   "outputs": [],
   "source": [
    "df_green.columns"
   ]
  },
  {
   "cell_type": "code",
   "execution_count": null,
   "id": "0cd94f22-fe2c-45e9-aeb1-800ad135faf2",
   "metadata": {},
   "outputs": [],
   "source": [
    "df_yellow = spark.read.parquet('data/pq/yellow/*/*')"
   ]
  },
  {
   "cell_type": "code",
   "execution_count": null,
   "id": "3372505c-cc47-47c8-9354-253bc6fd5e3f",
   "metadata": {},
   "outputs": [],
   "source": [
    "\n",
    "df_yellow = df_yellow \\\n",
    "    .withColumnRenamed('tpep_pickup_datetime', 'pickup_datetime') \\\n",
    "    .withColumnRenamed('tpep_dropoff_datetime', 'dropoff_datetime')"
   ]
  },
  {
   "cell_type": "code",
   "execution_count": null,
   "id": "29ff3c1a-0e92-43df-a8cb-cfba3bd92996",
   "metadata": {},
   "outputs": [],
   "source": [
    "print(type(df_yellow))"
   ]
  },
  {
   "cell_type": "code",
   "execution_count": null,
   "id": "6d9f9a33-7968-428c-a5dd-698fc4e1221a",
   "metadata": {},
   "outputs": [],
   "source": [
    "# Get the common list of columns between the 2 data files\n",
    "# set gives a unique set of columns\n",
    "\n",
    "#common_colums = []\n",
    "\n",
    "#yellow_columns = set(df_yellow.columns)\n",
    "\n",
    "#for col in df_green.columns:\n",
    " #   if col in yellow_columns:\n",
    " #       common_colums.append(col)"
   ]
  },
  {
   "cell_type": "code",
   "execution_count": null,
   "id": "faba5b07-5a5e-4be3-9d38-b9dc52733038",
   "metadata": {},
   "outputs": [],
   "source": [
    "common_columns = ['VendorID',\n",
    " 'pickup_datetime',\n",
    " 'dropoff_datetime',\n",
    " 'store_and_fwd_flag',\n",
    " 'RatecodeID',\n",
    " 'PULocationID',\n",
    " 'DOLocationID',\n",
    " 'passenger_count',\n",
    " 'trip_distance',\n",
    " 'fare_amount',\n",
    " 'extra',\n",
    " 'mta_tax',\n",
    " 'tip_amount',\n",
    " 'tolls_amount',\n",
    " 'improvement_surcharge',\n",
    " 'total_amount',\n",
    " 'payment_type',\n",
    " 'congestion_surcharge']"
   ]
  },
  {
   "cell_type": "code",
   "execution_count": null,
   "id": "49867f26-c316-46c0-8dd3-ae8a120179ca",
   "metadata": {},
   "outputs": [],
   "source": [
    "\n",
    "from pyspark.sql import functions as F"
   ]
  },
  {
   "cell_type": "code",
   "execution_count": 28,
   "id": "d8de12c5-1c88-436f-962c-b37ea126525c",
   "metadata": {},
   "outputs": [],
   "source": [
    "# Assign the literal 'green' as service type for green taxi data\n",
    "df_green_sel = df_green \\\n",
    "    .select(common_columns) \\\n",
    "    .withColumn('service_type', F.lit('green'))"
   ]
  },
  {
   "cell_type": "code",
   "execution_count": 29,
   "id": "60cdc94d-39ec-4fe5-a5cd-737726f85b6f",
   "metadata": {},
   "outputs": [],
   "source": [
    "df_yellow_sel = df_yellow \\\n",
    "    .select(common_columns) \\\n",
    "    .withColumn('service_type', F.lit('yellow'))"
   ]
  },
  {
   "cell_type": "code",
   "execution_count": 30,
   "id": "b6ca4a92-71f0-42f8-bbaf-628c46b793ee",
   "metadata": {},
   "outputs": [],
   "source": [
    "# Union the 2 data files\n",
    "df_trips_data = df_green_sel.unionAll(df_yellow_sel)"
   ]
  },
  {
   "cell_type": "code",
   "execution_count": 31,
   "id": "e72dfdbc-e38b-4123-9fcf-7567e4ab4498",
   "metadata": {},
   "outputs": [
    {
     "name": "stderr",
     "output_type": "stream",
     "text": [
      "[Stage 4:>                                                          (0 + 1) / 1]\r"
     ]
    },
    {
     "name": "stdout",
     "output_type": "stream",
     "text": [
      "+------------+--------+\n",
      "|service_type|   count|\n",
      "+------------+--------+\n",
      "|       green| 2304517|\n",
      "|      yellow|39649199|\n",
      "+------------+--------+\n",
      "\n"
     ]
    },
    {
     "name": "stderr",
     "output_type": "stream",
     "text": [
      "                                                                                \r"
     ]
    }
   ],
   "source": [
    "df_trips_data.groupBy('service_type').count().show()  # Do a group by on service type"
   ]
  },
  {
   "cell_type": "code",
   "execution_count": 34,
   "id": "64bbf0e5-08ef-48bd-b9b3-32033f2a776e",
   "metadata": {},
   "outputs": [
    {
     "data": {
      "text/plain": [
       "['VendorID',\n",
       " 'pickup_datetime',\n",
       " 'dropoff_datetime',\n",
       " 'store_and_fwd_flag',\n",
       " 'RatecodeID',\n",
       " 'PULocationID',\n",
       " 'DOLocationID',\n",
       " 'passenger_count',\n",
       " 'trip_distance',\n",
       " 'fare_amount',\n",
       " 'extra',\n",
       " 'mta_tax',\n",
       " 'tip_amount',\n",
       " 'tolls_amount',\n",
       " 'improvement_surcharge',\n",
       " 'total_amount',\n",
       " 'payment_type',\n",
       " 'congestion_surcharge',\n",
       " 'service_type']"
      ]
     },
     "execution_count": 34,
     "metadata": {},
     "output_type": "execute_result"
    }
   ],
   "source": [
    "df_trips_data.columns"
   ]
  },
  {
   "cell_type": "code",
   "execution_count": 35,
   "id": "b1f8d036-3f9e-484b-ac7c-0cf4a6eb48bc",
   "metadata": {},
   "outputs": [],
   "source": [
    "df_trips_data.registerTempTable('trips_data') # Create a temp table from the spark dataframe to run SQL"
   ]
  },
  {
   "cell_type": "code",
   "execution_count": 36,
   "id": "7e639f25-b0c2-451f-a190-89fc24f44be7",
   "metadata": {},
   "outputs": [
    {
     "name": "stderr",
     "output_type": "stream",
     "text": [
      "[Stage 5:=====================================================>   (15 + 1) / 16]\r"
     ]
    },
    {
     "name": "stdout",
     "output_type": "stream",
     "text": [
      "+------------+--------+\n",
      "|service_type|count(1)|\n",
      "+------------+--------+\n",
      "|       green| 2304517|\n",
      "|      yellow|39649199|\n",
      "+------------+--------+\n",
      "\n"
     ]
    },
    {
     "name": "stderr",
     "output_type": "stream",
     "text": [
      "                                                                                \r"
     ]
    }
   ],
   "source": [
    "# The counts should match with the group by\n",
    "spark.sql(\"\"\"\n",
    "SELECT\n",
    "    service_type,\n",
    "    count(1)\n",
    "FROM\n",
    "    trips_data\n",
    "GROUP BY \n",
    "    service_type\n",
    "\"\"\").show()"
   ]
  },
  {
   "cell_type": "code",
   "execution_count": 37,
   "id": "f1752d19-16bf-497d-837a-603534634671",
   "metadata": {},
   "outputs": [],
   "source": [
    "df_result = spark.sql(\"\"\"\n",
    "SELECT \n",
    "    -- Reveneue grouping \n",
    "    PULocationID AS revenue_zone,\n",
    "    date_trunc('month', pickup_datetime) AS revenue_month, \n",
    "    service_type, \n",
    "\n",
    "    -- Revenue calculation \n",
    "    SUM(fare_amount) AS revenue_monthly_fare,\n",
    "    SUM(extra) AS revenue_monthly_extra,\n",
    "    SUM(mta_tax) AS revenue_monthly_mta_tax,\n",
    "    SUM(tip_amount) AS revenue_monthly_tip_amount,\n",
    "    SUM(tolls_amount) AS revenue_monthly_tolls_amount,\n",
    "    SUM(improvement_surcharge) AS revenue_monthly_improvement_surcharge,\n",
    "    SUM(total_amount) AS revenue_monthly_total_amount,\n",
    "    SUM(congestion_surcharge) AS revenue_monthly_congestion_surcharge,\n",
    "\n",
    "    -- Additional calculations\n",
    "    AVG(passenger_count) AS avg_montly_passenger_count,\n",
    "    AVG(trip_distance) AS avg_montly_trip_distance\n",
    "FROM\n",
    "    trips_data\n",
    "GROUP BY\n",
    "    1, 2, 3\n",
    "\"\"\")"
   ]
  },
  {
   "cell_type": "code",
   "execution_count": 38,
   "id": "bb05fc05-649f-47f3-80ea-c6f41bacd22c",
   "metadata": {},
   "outputs": [
    {
     "name": "stderr",
     "output_type": "stream",
     "text": [
      "[Stage 8:=====================================================>   (15 + 1) / 16]\r"
     ]
    },
    {
     "name": "stdout",
     "output_type": "stream",
     "text": [
      "+------------+-------------------+------------+--------------------+---------------------+-----------------------+--------------------------+----------------------------+-------------------------------------+----------------------------+------------------------------------+--------------------------+------------------------+\n",
      "|revenue_zone|      revenue_month|service_type|revenue_monthly_fare|revenue_monthly_extra|revenue_monthly_mta_tax|revenue_monthly_tip_amount|revenue_monthly_tolls_amount|revenue_monthly_improvement_surcharge|revenue_monthly_total_amount|revenue_monthly_congestion_surcharge|avg_montly_passenger_count|avg_montly_trip_distance|\n",
      "+------------+-------------------+------------+--------------------+---------------------+-----------------------+--------------------------+----------------------------+-------------------------------------+----------------------------+------------------------------------+--------------------------+------------------------+\n",
      "|         112|2020-01-01 00:00:00|       green|  21761.030000000006|               1034.0|                  703.0|         2487.420000000001|           308.6100000000001|                    452.7000000000114|          27470.109999999626|                              742.25|        1.2766407904022583|      3.4783365695792856|\n",
      "|         232|2020-02-01 00:00:00|       green|   5079.369999999998|               476.75|                   17.0|                       0.0|          184.35000000000005|                   52.799999999999855|           5810.269999999996|                                 0.0|                       1.0|       7.241874999999999|\n",
      "|          58|2020-02-01 00:00:00|       green|  1198.6900000000003|                80.75|                   13.0|                     76.56|                       36.72|                   12.600000000000009|          1425.7700000000002|                                16.5|        1.1923076923076923|       5.657708333333335|\n",
      "|         234|2020-02-01 00:00:00|       green|             1156.73|                110.0|                    2.5|                       0.0|           55.07999999999999|                   11.700000000000006|          1336.0099999999998|                                 0.0|                       1.0|       7.341794871794875|\n",
      "|         245|2020-02-01 00:00:00|       green|   78.71000000000001|                 2.75|                    1.0|                       0.0|                       12.24|                                  0.6|                        95.3|                                 0.0|                       1.0|                  12.145|\n",
      "|         117|2020-01-01 00:00:00|       green|  41693.880000000005|              1584.25|                  122.0|                      6.29|          2525.0299999999847|                    270.9000000000045|                    46202.35|                                 0.0|                       1.3|      13.908786885245878|\n",
      "|         174|2020-02-01 00:00:00|       green|  26850.759999999987|               1982.5|                  280.0|                    365.88|                      895.38|                   324.30000000000655|           30758.31999999968|                                49.5|        1.2743538767395626|       5.429607329842932|\n",
      "|         255|2020-03-01 00:00:00|       green|  21466.420000000002|                955.0|                  775.0|         3267.180000000003|          169.78000000000006|                    478.5000000000124|           27964.62999999967|                               978.0|        1.4516331658291457|      3.1941810344827615|\n",
      "|         228|2020-03-01 00:00:00|       green|   9563.500000000004|                78.75|                   82.5|         258.6499999999999|          142.10000000000005|                   114.59999999999927|          10354.799999999988|                               52.25|        1.2658227848101267|       6.717624020887727|\n",
      "|         263|2020-03-01 00:00:00|       green|  2475.3500000000004|                39.75|                   43.0|                    127.61|          104.04000000000002|                     48.2999999999999|          3002.5500000000015|                               148.5|        1.4651162790697674|       363.4869938650311|\n",
      "|          28|2020-03-01 00:00:00|       green|  5891.0599999999995|                29.25|                   53.0|                     80.32|          195.84000000000006|                    84.29999999999956|           6368.820000000012|                                2.75|        1.2043795620437956|       5.802602739726024|\n",
      "|          48|2020-03-01 00:00:00|       green|  1075.4900000000002|                 2.75|                    1.0|                       0.0|           75.21000000000001|                   10.500000000000004|                      1173.8|                                 0.0|                       1.0|      10.562000000000003|\n",
      "|         210|2020-02-01 00:00:00|       green|   36605.99999999995|              2514.25|                  692.5|        1437.6600000000005|           667.5900000000003|                    558.6000000000066|           42487.60000000016|                                33.0|         1.175875486381323|       4.499913397860419|\n",
      "|          85|2020-02-01 00:00:00|       green|  14506.020000000046|               1340.5|                  123.0|                     96.23|           230.9100000000001|                    174.3000000000009|          16511.659999999953|                                16.5|        1.1965317919075145|       4.288293460925041|\n",
      "|         207|2020-03-01 00:00:00|       green|              462.44|                  0.0|                   18.5|                       0.0|                       18.36|                    13.20000000000001|           512.5000000000002|                                 0.0|         1.105263157894737|      1.9609090909090907|\n",
      "|         166|2020-10-01 00:00:00|       green|            26511.82|               848.75|                 1011.0|        3142.7000000000007|           364.1000000000002|                    666.8999999999902|           33847.51999999947|                             1580.75|        1.3102601865488464|       2.569059561128527|\n",
      "|         117|2020-10-01 00:00:00|       green|   8601.479999999992|                 14.0|                   19.5|                    517.85|           482.6200000000011|                   56.999999999999815|           9695.200000000008|                                 0.0|                       1.0|      13.667421052631582|\n",
      "|         193|2008-12-01 00:00:00|       green|                 0.0|                  0.0|                    0.0|                       0.0|                         0.0|                                  0.0|                         0.0|                                 0.0|                       1.0|                     0.0|\n",
      "|         192|2020-01-01 00:00:00|       green|             8618.38|               395.25|                   63.5|         374.9299999999999|           54.04999999999999|                     90.2999999999995|           9608.110000000004|                                 0.0|        1.3060109289617485|       5.159457142857144|\n",
      "|          47|2020-02-01 00:00:00|       green|  13825.300000000041|              1181.25|                  122.5|                     66.66|          458.97000000000025|                    174.6000000000009|          15851.979999999945|                                11.0|        1.1617021276595745|       4.698445512820509|\n",
      "+------------+-------------------+------------+--------------------+---------------------+-----------------------+--------------------------+----------------------------+-------------------------------------+----------------------------+------------------------------------+--------------------------+------------------------+\n",
      "only showing top 20 rows\n",
      "\n"
     ]
    },
    {
     "name": "stderr",
     "output_type": "stream",
     "text": [
      "                                                                                \r"
     ]
    }
   ],
   "source": [
    "df_result.show()"
   ]
  },
  {
   "cell_type": "code",
   "execution_count": null,
   "id": "b9a964ef-ea1a-447b-8cb6-22a4a8c451fb",
   "metadata": {},
   "outputs": [],
   "source": [
    "df_result.write.parquet('data/report/revenue/') # Creates a file for each month"
   ]
  },
  {
   "cell_type": "code",
   "execution_count": null,
   "id": "32bd0838-4470-4a57-a2ce-dcac747030d2",
   "metadata": {},
   "outputs": [],
   "source": [
    "#df_result.coalesce(1).write.parquet('data/report/revenue/', mode='overwrite') # Appends all the individial files into one file"
   ]
  },
  {
   "cell_type": "code",
   "execution_count": null,
   "id": "ce2426e2-0dc2-4f37-82e8-69d4accf8499",
   "metadata": {},
   "outputs": [],
   "source": []
  }
 ],
 "metadata": {
  "kernelspec": {
   "display_name": "Python 3 (ipykernel)",
   "language": "python",
   "name": "python3"
  },
  "language_info": {
   "codemirror_mode": {
    "name": "ipython",
    "version": 3
   },
   "file_extension": ".py",
   "mimetype": "text/x-python",
   "name": "python",
   "nbconvert_exporter": "python",
   "pygments_lexer": "ipython3",
   "version": "3.10.12"
  }
 },
 "nbformat": 4,
 "nbformat_minor": 5
}
